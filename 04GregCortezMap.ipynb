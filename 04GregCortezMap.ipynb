{
  "cells": [
    {
      "cell_type": "markdown",
      "id": "41600d0d",
      "metadata": {},
      "source": [
        "# Mapping places from El Corrido de Gregorio Cortez\n"
      ]
    },
    {
      "cell_type": "code",
      "execution_count": 1,
      "id": "1d346a80",
      "metadata": {},
      "outputs": [],
      "source": [
        "import geopandas as gpd\n",
        "from pyproj import CRS\n",
        "import pandas as pd\n",
        "import numpy as np\n",
        "\n",
        "from geograpy import places\n",
        "import re\n",
        "\n",
        "import geopy\n",
        "from geopy.geocoders import ArcGIS\n",
        "\n",
        "\n",
        "import shapely\n",
        "from shapely.geometry import Point\n",
        "from shapely.wkt import loads\n",
        "import plotly.express as px \n",
        "\n",
        "import contextily as cx\n",
        "import xyzservices.providers as xyz\n",
        "import matplotlib.pyplot as plt #to make sure there are no errors when plotting a graph\n",
        "import pyproj\n",
        "\n",
        "import spacy\n",
        "from spacy import displacy\n",
        "\n",
        "import googlemaps\n",
        "\n",
        "import locationtagger\n",
        "nlp = spacy.load(\"en_core_web_sm\")"
      ]
    },
    {
      "cell_type": "code",
      "execution_count": 2,
      "id": "94a6e1be",
      "metadata": {},
      "outputs": [
        {
          "name": "stderr",
          "output_type": "stream",
          "text": [
            "c:\\Users\\dmlpz\\anaconda3\\lib\\site-packages\\spacy\\util.py:837: UserWarning: [W095] Model 'en_pipeline' (0.0.0) was trained with spaCy v3.4 and may not be 100% compatible with the current version (3.3.1). If you see errors or degraded performance, download a newer compatible model or retrain your custom model with the current spaCy version. For more details and available updates, run: python -m spacy validate\n",
            "  warnings.warn(warn_msg)\n"
          ]
        },
        {
          "name": "stdout",
          "output_type": "stream",
          "text": [
            "['Karnes', 'Gonzales', 'Laredo', 'Encinal']\n"
          ]
        }
      ],
      "source": [
        "text = \"elcorridodegregoriocortez.txt\"\n",
        "with open(text, 'r', encoding='utf-8') as c:\n",
        "    text = c.read()\n",
        "    \n",
        "def clean_text(text):\n",
        "    cleaned= re.sub(r'[\":;,.“”]', \"\", text)\n",
        "    return(cleaned)\n",
        "text = clean_text(text)\n",
        "#print(text)\n",
        "\n",
        "\n",
        "TxGPE=[]\n",
        "nlp = spacy.load(\"tx_trained_ner\")\n",
        "doc =nlp(text) \n",
        "#print(doc)\n",
        "for ent in doc.ents:\n",
        "    #print(ent.text, ent.label_)\n",
        "    if ent.label_ == \"GPE\":\n",
        "        TxGPE.append(ent.text)\n",
        "print(TxGPE)"
      ]
    },
    {
      "cell_type": "code",
      "execution_count": 3,
      "id": "1e3e25b9",
      "metadata": {},
      "outputs": [
        {
          "name": "stdout",
          "output_type": "stream",
          "text": [
            "[('Karnes', 18, 24, 'GPE'), ('Gonzales', 1051, 1059, 'GPE'), ('Laredo', 1550, 1556, 'GPE'), ('Encinal', 1864, 1871, 'GPE')]\n",
            "['Karnes', 'Gonzales', 'Laredo', 'Encinal']\n"
          ]
        }
      ],
      "source": [
        "ents = [(e.text, e.start_char, e.end_char, e.label_)for e in doc.ents]\n",
        "print(ents)\n",
        "\n",
        "ents = [(e.text)for e in doc.ents]\n",
        "print(ents)"
      ]
    },
    {
      "cell_type": "code",
      "execution_count": 4,
      "id": "d477ea79",
      "metadata": {},
      "outputs": [
        {
          "data": {
            "text/html": [
              "<span class=\"tex2jax_ignore\"><!DOCTYPE html>\n",
              "<html lang=\"en\">\n",
              "    <head>\n",
              "        <title>displaCy</title>\n",
              "    </head>\n",
              "\n",
              "    <body style=\"font-size: 16px; font-family: -apple-system, BlinkMacSystemFont, 'Segoe UI', Helvetica, Arial, sans-serif, 'Apple Color Emoji', 'Segoe UI Emoji', 'Segoe UI Symbol'; padding: 4rem 2rem; direction: ltr\">\n",
              "<figure style=\"margin-bottom: 6rem\">\n",
              "<div class=\"entities\" style=\"line-height: 2.5; direction: ltr\">In the country of \n",
              "<mark class=\"entity\" style=\"background: #feca74; padding: 0.45em 0.6em; margin: 0 0.25em; line-height: 1; border-radius: 0.35em;\">\n",
              "    Karnes\n",
              "    <span style=\"font-size: 0.8em; font-weight: bold; line-height: 1; border-radius: 0.35em; vertical-align: middle; margin-left: 0.5rem\">GPE</span>\n",
              "</mark>\n",
              " </br>Look what has happened </br>The Major Sheriff died</br>Leaving Román badly wounded</br></br>It must have been two in the </br>afternoon</br>When people arrived</br>They said to one another</br>It is not known who killed him</br></br>They went around asking questions</br>About half an hour afterward </br>They found that the wrongdoer</br>Had been Gregorio Cortez</br></br>Now they have outlawed Cortez</br>Throughout the whole state</br>Let him be taken dead or alive </br>He has killed several men</br></br>They said Gregorio Cortez </br>With his pistol in his hand</br>I don’t regret that I killed him </br>I regret my brother’s death</br></br>Then said Gregorio Cortez </br>And his soul was all aflame </br>I don’t regret that I killed him</br>A man must defend himself</br></br>The Americans were coming </br>They were whiter than a dove </br>From the fear that they had </br>Of Cortez and of his pistol </br></br>Then the Americans said </br>Then they said fearfully</br>Come let us follow the trail</br>The wrongdoer is Cortez</br></br>They set the bloodhounds on him </br>So they could follow his trail </br>But trying to overtake  Cortez</br>Was like following a star </br></br>He struck out for \n",
              "<mark class=\"entity\" style=\"background: #feca74; padding: 0.45em 0.6em; margin: 0 0.25em; line-height: 1; border-radius: 0.35em;\">\n",
              "    Gonzales\n",
              "    <span style=\"font-size: 0.8em; font-weight: bold; line-height: 1; border-radius: 0.35em; vertical-align: middle; margin-left: 0.5rem\">GPE</span>\n",
              "</mark>\n",
              "</br>Without showing any fear</br>Follow me cowardly rangers </br>I am Gregorio Cortez</br></br>From Belmont he went to the </br>ranch  </br>They succeeded in surrounding </br>him </br>Quite a few more than three hundred </br>But there he jumped their corral </br></br>When he jumped their corral </br>According to what we hear</br>They got into a gunfight</br>And he killed them another sheriff </br></br>Then said Gregorio Cortez </br>With his pistol in his hand </br>Don’t run you cowardly rangers </br>From just one Mexican</br></br>Gregorio Cortez went out </br>He went towards \n",
              "<mark class=\"entity\" style=\"background: #feca74; padding: 0.45em 0.6em; margin: 0 0.25em; line-height: 1; border-radius: 0.35em;\">\n",
              "    Laredo\n",
              "    <span style=\"font-size: 0.8em; font-weight: bold; line-height: 1; border-radius: 0.35em; vertical-align: middle; margin-left: 0.5rem\">GPE</span>\n",
              "</mark>\n",
              "</br>They decided not to follow </br>Because they were afraid of him</br></br>Then said Gregorio Cortez </br>What is the use of your scheming?</br>You cannot catch me</br>Even with those bloodhounds</br></br>Then the Americans said </br>If we catch you with him what </br>shall we do?</br>If we fight him man to man </br>Very few of us will return</br></br>Over by El \n",
              "<mark class=\"entity\" style=\"background: #feca74; padding: 0.45em 0.6em; margin: 0 0.25em; line-height: 1; border-radius: 0.35em;\">\n",
              "    Encinal\n",
              "    <span style=\"font-size: 0.8em; font-weight: bold; line-height: 1; border-radius: 0.35em; vertical-align: middle; margin-left: 0.5rem\">GPE</span>\n",
              "</mark>\n",
              " </br>According to what we hear </br>They made him a corral </br>And he killed them another sheriff </br></br>Then said Gregorio Cortez </br>Shooting out a lot of bullets</br>I have weathered thunderstorms</br>This little mist doesn’t bother me</br></br>Now he has met a Mexican</br>He says to him haughtily</br>tell me the news</br>I am Gregorio Cortez</br></br>It is said that because of me </br>Many people have been killed</br>I will surrender now</br>Because such things are not right</br></br>Cortez says to Jesús</br>At last you are going to see it</br>Go tell the rangers</br>To come and arrest me</br></br>All the rangers were coming </br>Coming so fast they even flew </br>For they wanted to get </br>The thousand dollars they were </br>offered </br></br>When they surrounded the house </br>Cortez suddenly appeared before</br>\tthem </br>You will take me if I’m willing </br>But not any other way</br></br>Then the Major Sheriff said </br>As if he was going to cry </br>Cortez hand over your weapons</br>We are not going to kill</br></br>Then said Gregorio Cortez</br>Shouting to them in a loud voice</br>I won’t surrender my arms</br>Until I am in a cell</br></br>Then said Gregorio Cortez</br>He said in his godly voice </br>I won’t surrender my arms</br>Until I’m inside a jail</br></br>Now they have taken Cortez</br>Now matters are at an end </br>His poor family</br>Are suffering in their hearts</br></br>Now with this I say farewell </br>In the shade of a cypress tree</br>This is the end of the singing </br>of the ballad of Cortez</div>\n",
              "</figure>\n",
              "</body>\n",
              "</html></span>"
            ],
            "text/plain": [
              "<IPython.core.display.HTML object>"
            ]
          },
          "metadata": {},
          "output_type": "display_data"
        }
      ],
      "source": [
        "displacy.render(doc, style ='ent', jupyter=True, page=True)"
      ]
    },
    {
      "cell_type": "code",
      "execution_count": 5,
      "id": "8e8747e9",
      "metadata": {},
      "outputs": [
        {
          "data": {
            "text/html": [
              "<div>\n",
              "<style scoped>\n",
              "    .dataframe tbody tr th:only-of-type {\n",
              "        vertical-align: middle;\n",
              "    }\n",
              "\n",
              "    .dataframe tbody tr th {\n",
              "        vertical-align: top;\n",
              "    }\n",
              "\n",
              "    .dataframe thead th {\n",
              "        text-align: right;\n",
              "    }\n",
              "</style>\n",
              "<table border=\"1\" class=\"dataframe\">\n",
              "  <thead>\n",
              "    <tr style=\"text-align: right;\">\n",
              "      <th></th>\n",
              "      <th>NER_Places</th>\n",
              "      <th>Location</th>\n",
              "    </tr>\n",
              "  </thead>\n",
              "  <tbody>\n",
              "    <tr>\n",
              "      <th>0</th>\n",
              "      <td>Karnes</td>\n",
              "      <td>(Karnes County, Texas, (28.905630820000056, -9...</td>\n",
              "    </tr>\n",
              "    <tr>\n",
              "      <th>1</th>\n",
              "      <td>Gonzales</td>\n",
              "      <td>(Gonzales, Texas, (29.500150000000076, -97.452...</td>\n",
              "    </tr>\n",
              "    <tr>\n",
              "      <th>2</th>\n",
              "      <td>Laredo</td>\n",
              "      <td>(Laredo, Texas, (27.530920000000037, -99.50230...</td>\n",
              "    </tr>\n",
              "    <tr>\n",
              "      <th>3</th>\n",
              "      <td>Encinal</td>\n",
              "      <td>(Encinal, Texas, (28.046230000000037, -99.3566...</td>\n",
              "    </tr>\n",
              "  </tbody>\n",
              "</table>\n",
              "</div>"
            ],
            "text/plain": [
              "  NER_Places                                           Location\n",
              "0     Karnes  (Karnes County, Texas, (28.905630820000056, -9...\n",
              "1   Gonzales  (Gonzales, Texas, (29.500150000000076, -97.452...\n",
              "2     Laredo  (Laredo, Texas, (27.530920000000037, -99.50230...\n",
              "3    Encinal  (Encinal, Texas, (28.046230000000037, -99.3566..."
            ]
          },
          "execution_count": 5,
          "metadata": {},
          "output_type": "execute_result"
        }
      ],
      "source": [
        "df = pd.DataFrame(ents, columns=[\"NER_Places\"])\n",
        "geolocator = ArcGIS(user_agent='CorridosMap')\n",
        "geocode = lambda query: geolocator.geocode(\"%s, Texas\" % query)\n",
        "df['Location'] = df['NER_Places'].apply(geocode)\n",
        "#df['geometry'] = df['NER_Places'].apply(geocode)\n",
        "df"
      ]
    },
    {
      "cell_type": "code",
      "execution_count": 6,
      "id": "dd3a19e6",
      "metadata": {},
      "outputs": [
        {
          "data": {
            "text/html": [
              "<div>\n",
              "<style scoped>\n",
              "    .dataframe tbody tr th:only-of-type {\n",
              "        vertical-align: middle;\n",
              "    }\n",
              "\n",
              "    .dataframe tbody tr th {\n",
              "        vertical-align: top;\n",
              "    }\n",
              "\n",
              "    .dataframe thead th {\n",
              "        text-align: right;\n",
              "    }\n",
              "</style>\n",
              "<table border=\"1\" class=\"dataframe\">\n",
              "  <thead>\n",
              "    <tr style=\"text-align: right;\">\n",
              "      <th></th>\n",
              "      <th>geometry</th>\n",
              "      <th>address</th>\n",
              "    </tr>\n",
              "  </thead>\n",
              "  <tbody>\n",
              "    <tr>\n",
              "      <th>0</th>\n",
              "      <td>POINT (-97.85942 28.90563)</td>\n",
              "      <td>Karnes County, Texas</td>\n",
              "    </tr>\n",
              "    <tr>\n",
              "      <th>1</th>\n",
              "      <td>POINT (-97.45223 29.50015)</td>\n",
              "      <td>Gonzales, Texas</td>\n",
              "    </tr>\n",
              "    <tr>\n",
              "      <th>2</th>\n",
              "      <td>POINT (-99.50231 27.53092)</td>\n",
              "      <td>Laredo, Texas</td>\n",
              "    </tr>\n",
              "    <tr>\n",
              "      <th>3</th>\n",
              "      <td>POINT (-99.35670 28.04623)</td>\n",
              "      <td>Encinal, Texas</td>\n",
              "    </tr>\n",
              "  </tbody>\n",
              "</table>\n",
              "</div>"
            ],
            "text/plain": [
              "                     geometry               address\n",
              "0  POINT (-97.85942 28.90563)  Karnes County, Texas\n",
              "1  POINT (-97.45223 29.50015)       Gonzales, Texas\n",
              "2  POINT (-99.50231 27.53092)         Laredo, Texas\n",
              "3  POINT (-99.35670 28.04623)        Encinal, Texas"
            ]
          },
          "execution_count": 6,
          "metadata": {},
          "output_type": "execute_result"
        }
      ],
      "source": [
        "gdf = gpd.tools.geocode(df.Location, provider='ArcGIS')\n",
        "gdf"
      ]
    },
    {
      "cell_type": "code",
      "execution_count": 7,
      "id": "a686209f",
      "metadata": {},
      "outputs": [
        {
          "ename": "FileNotFoundError",
          "evalue": "[Errno 2] No such file or directory: 'mapboxtoken'",
          "output_type": "error",
          "traceback": [
            "\u001b[1;31m---------------------------------------------------------------------------\u001b[0m",
            "\u001b[1;31mFileNotFoundError\u001b[0m                         Traceback (most recent call last)",
            "Cell \u001b[1;32mIn[7], line 1\u001b[0m\n\u001b[1;32m----> 1\u001b[0m px\u001b[39m.\u001b[39mset_mapbox_access_token(\u001b[39mopen\u001b[39;49m(\u001b[39m\"\u001b[39;49m\u001b[39mmapboxtoken\u001b[39;49m\u001b[39m\"\u001b[39;49m)\u001b[39m.\u001b[39mread())\n\u001b[0;32m      2\u001b[0m fig \u001b[39m=\u001b[39m px\u001b[39m.\u001b[39mline_mapbox(gdf,\n\u001b[0;32m      3\u001b[0m                         lat\u001b[39m=\u001b[39mgdf\u001b[39m.\u001b[39mgeometry\u001b[39m.\u001b[39my,\n\u001b[0;32m      4\u001b[0m                         lon\u001b[39m=\u001b[39mgdf\u001b[39m.\u001b[39mgeometry\u001b[39m.\u001b[39mx,\n\u001b[0;32m      5\u001b[0m                         hover_name\u001b[39m=\u001b[39m\u001b[39m\"\u001b[39m\u001b[39maddress\u001b[39m\u001b[39m\"\u001b[39m,\n\u001b[0;32m      6\u001b[0m                        \n\u001b[0;32m      7\u001b[0m                         )\n\u001b[0;32m      9\u001b[0m fig\u001b[39m.\u001b[39mupdate_layout(mapbox_style\u001b[39m=\u001b[39m\u001b[39m\"\u001b[39m\u001b[39mstamen-terrain\u001b[39m\u001b[39m\"\u001b[39m, mapbox_zoom\u001b[39m=\u001b[39m\u001b[39m6\u001b[39m, mapbox_center_lat \u001b[39m=\u001b[39m \u001b[39m29\u001b[39m,\n\u001b[0;32m     10\u001b[0m     margin\u001b[39m=\u001b[39m{\u001b[39m\"\u001b[39m\u001b[39mr\u001b[39m\u001b[39m\"\u001b[39m:\u001b[39m0\u001b[39m,\u001b[39m\"\u001b[39m\u001b[39mt\u001b[39m\u001b[39m\"\u001b[39m:\u001b[39m0\u001b[39m,\u001b[39m\"\u001b[39m\u001b[39ml\u001b[39m\u001b[39m\"\u001b[39m:\u001b[39m0\u001b[39m,\u001b[39m\"\u001b[39m\u001b[39mb\u001b[39m\u001b[39m\"\u001b[39m:\u001b[39m0\u001b[39m})\n",
            "File \u001b[1;32mc:\\Users\\dmlpz\\anaconda3\\lib\\site-packages\\IPython\\core\\interactiveshell.py:282\u001b[0m, in \u001b[0;36m_modified_open\u001b[1;34m(file, *args, **kwargs)\u001b[0m\n\u001b[0;32m    275\u001b[0m \u001b[39mif\u001b[39;00m file \u001b[39min\u001b[39;00m {\u001b[39m0\u001b[39m, \u001b[39m1\u001b[39m, \u001b[39m2\u001b[39m}:\n\u001b[0;32m    276\u001b[0m     \u001b[39mraise\u001b[39;00m \u001b[39mValueError\u001b[39;00m(\n\u001b[0;32m    277\u001b[0m         \u001b[39mf\u001b[39m\u001b[39m\"\u001b[39m\u001b[39mIPython won\u001b[39m\u001b[39m'\u001b[39m\u001b[39mt let you open fd=\u001b[39m\u001b[39m{\u001b[39;00mfile\u001b[39m}\u001b[39;00m\u001b[39m by default \u001b[39m\u001b[39m\"\u001b[39m\n\u001b[0;32m    278\u001b[0m         \u001b[39m\"\u001b[39m\u001b[39mas it is likely to crash IPython. If you know what you are doing, \u001b[39m\u001b[39m\"\u001b[39m\n\u001b[0;32m    279\u001b[0m         \u001b[39m\"\u001b[39m\u001b[39myou can use builtins\u001b[39m\u001b[39m'\u001b[39m\u001b[39m open.\u001b[39m\u001b[39m\"\u001b[39m\n\u001b[0;32m    280\u001b[0m     )\n\u001b[1;32m--> 282\u001b[0m \u001b[39mreturn\u001b[39;00m io_open(file, \u001b[39m*\u001b[39margs, \u001b[39m*\u001b[39m\u001b[39m*\u001b[39mkwargs)\n",
            "\u001b[1;31mFileNotFoundError\u001b[0m: [Errno 2] No such file or directory: 'mapboxtoken'"
          ]
        }
      ],
      "source": [
        "px.set_mapbox_access_token(open(\"mapboxtoken\").read())\n",
        "fig = px.line_mapbox(gdf,\n",
        "                        lat=gdf.geometry.y,\n",
        "                        lon=gdf.geometry.x,\n",
        "                        hover_name=\"address\",\n",
        "                       \n",
        "                        )\n",
        "\n",
        "fig.update_layout(mapbox_style=\"stamen-terrain\", mapbox_zoom=6, mapbox_center_lat = 29,\n",
        "    margin={\"r\":0,\"t\":0,\"l\":0,\"b\":0})\n",
        "\n",
        "\n",
        "\n",
        "fig.show()"
      ]
    }
  ],
  "metadata": {
    "kernelspec": {
      "display_name": "base",
      "language": "python",
      "name": "python3"
    },
    "language_info": {
      "codemirror_mode": {
        "name": "ipython",
        "version": 3
      },
      "file_extension": ".py",
      "mimetype": "text/x-python",
      "name": "python",
      "nbconvert_exporter": "python",
      "pygments_lexer": "ipython3",
      "version": "3.9.16"
    },
    "vscode": {
      "interpreter": {
        "hash": "7f40ff472a9a0ca2bfce30638906388c1fcc2e125f59cf1635e8e7322faa5529"
      }
    }
  },
  "nbformat": 4,
  "nbformat_minor": 5
}

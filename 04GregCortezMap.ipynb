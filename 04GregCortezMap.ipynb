{
  "cells": [
    {
      "cell_type": "raw",
      "metadata": {},
      "source": [
        "---\n",
        "code-fold: true\n",
        "---"
      ],
      "id": "84f468ed"
    },
    {
      "cell_type": "markdown",
      "metadata": {},
      "source": [
        "# Mapping El Corrido de Gregorio \n",
        "\n",
        "### packages required {.unnumbered}"
      ],
      "id": "f6129de1"
    },
    {
      "cell_type": "code",
      "metadata": {},
      "source": [
        "import geopandas as gpd\n",
        "import pandas as pd\n",
        "\n",
        "import re\n",
        "\n",
        "from geopy.geocoders import ArcGIS\n",
        "import plotly.express as px \n",
        "\n",
        "import spacy\n",
        "from spacy import displacy"
      ],
      "id": "e26f0664",
      "execution_count": null,
      "outputs": []
    },
    {
      "cell_type": "markdown",
      "metadata": {},
      "source": [
        "### Extracting Name Enities (places) from text document {.unnumbered}"
      ],
      "id": "cdb18b5d"
    },
    {
      "cell_type": "code",
      "metadata": {},
      "source": [
        "text = \"elcorridodegregoriocortez.txt\"\n",
        "with open(text, 'r', encoding='utf-8') as c:\n",
        "    text = c.read()\n",
        "    \n",
        "def clean_text(text):\n",
        "    cleaned= re.sub(r'[\":;,.“”]', \"\", text)\n",
        "    return(cleaned)\n",
        "text = clean_text(text)\n",
        "#print(text)\n",
        "\n",
        "\n",
        "TxGPE=[]\n",
        "nlp = spacy.load(\"tx_trained_ner\")\n",
        "doc =nlp(text) \n",
        "#print(doc)\n",
        "for ent in doc.ents:\n",
        "    #print(ent.text, ent.label_)\n",
        "    if ent.label_ == \"GPE\":\n",
        "        TxGPE.append(ent.text)\n",
        "#print(TxGPE)\n",
        "\n",
        "ents = [(e.text, e.start_char, e.end_char, e.label_)for e in doc.ents]\n",
        "entsname=[(e.text) for e in doc.ents]\n",
        "print(entsname)"
      ],
      "id": "90e77140",
      "execution_count": null,
      "outputs": []
    },
    {
      "cell_type": "markdown",
      "metadata": {},
      "source": [
        "### Visulization: Highlighting Name Entities from text {.unnumbered}"
      ],
      "id": "10485393"
    },
    {
      "cell_type": "code",
      "metadata": {},
      "source": [
        "displacy.render(doc, style ='ent', jupyter=True, page=True)"
      ],
      "id": "151e2bfe",
      "execution_count": null,
      "outputs": []
    },
    {
      "cell_type": "markdown",
      "metadata": {},
      "source": [
        "### Creating Dataframe {.unnumbered}"
      ],
      "id": "3b0f53e5"
    },
    {
      "cell_type": "code",
      "metadata": {},
      "source": [
        "df = pd.DataFrame({'NER': entsname})\n",
        "geolocator = ArcGIS(user_agent='CorridosMap')\n",
        "geocode = lambda query: geolocator.geocode(\"%s, Texas\" % query)\n",
        "#print(geocode(entsname))\n",
        "df['Coordinates'] = df['NER'].apply(geocode)\n",
        "df"
      ],
      "id": "21845369",
      "execution_count": null,
      "outputs": []
    },
    {
      "cell_type": "markdown",
      "metadata": {},
      "source": [
        "### Creating GeoDataframe {.unnumbered}"
      ],
      "id": "d8fbfeaf"
    },
    {
      "cell_type": "code",
      "metadata": {},
      "source": [
        "gdf = gpd.tools.geocode(df.Coordinates, provider='ArcGIS')\n",
        "gdf = gpd.GeoDataFrame(gdf, crs=\"EPSG:4326\")\n",
        "gdf[\"lat\"]=gdf['geometry'].y\n",
        "gdf [\"lon\"] = gdf['geometry'].x\n",
        "\n",
        "gdf\n",
        "gdf.to_json()"
      ],
      "id": "700353cd",
      "execution_count": null,
      "outputs": []
    },
    {
      "cell_type": "markdown",
      "metadata": {},
      "source": [
        "### Creating Mapping Visualization from El Corrido de Gregorio Cortez {.unnumbered}"
      ],
      "id": "4bb1db7e"
    },
    {
      "cell_type": "code",
      "metadata": {},
      "source": [
        "px.set_mapbox_access_token(open(\"mapboxtoken\").read())\n",
        "fig = px.line_mapbox(gdf,\n",
        "                        lat=gdf.geometry.y,\n",
        "                        lon=gdf.geometry.x,\n",
        "                        hover_name=\"address\",\n",
        "            \n",
        "                        )\n",
        "\n",
        "fig.update_layout(mapbox_style=\"open-street-map\", mapbox_zoom=6, mapbox_center_lat = 29,\n",
        "    margin={\"r\":0,\"t\":0,\"l\":0,\"b\":0})\n",
        "\n",
        "fig.show()"
      ],
      "id": "4206fbee",
      "execution_count": null,
      "outputs": []
    }
  ],
  "metadata": {
    "kernelspec": {
      "name": "python3",
      "language": "python",
      "display_name": "Python 3 (ipykernel)"
    }
  },
  "nbformat": 4,
  "nbformat_minor": 5
}
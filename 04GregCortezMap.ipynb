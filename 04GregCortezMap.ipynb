{
  "cells": [
    {
      "cell_type": "raw",
      "metadata": {},
      "source": [
        "---\n",
        "code-fold: true\n",
        "---"
      ],
      "id": "ebb745ad"
    },
    {
      "cell_type": "markdown",
      "metadata": {},
      "source": [
        "# Mapping Gregorio Cortez's route \n"
      ],
      "id": "37bf8493"
    },
    {
      "cell_type": "code",
      "metadata": {},
      "source": [
        "import geopandas as gpd\n",
        "from pyproj import CRS\n",
        "import pandas as pd\n",
        "import numpy as np\n",
        "\n",
        "from geograpy import places\n",
        "import re\n",
        "\n",
        "import geopy\n",
        "from geopy.geocoders import ArcGIS\n",
        "\n",
        "\n",
        "import shapely\n",
        "from shapely.geometry import Point\n",
        "from shapely.wkt import loads\n",
        "import plotly.express as px \n",
        "\n",
        "import contextily as cx\n",
        "import xyzservices.providers as xyz\n",
        "import matplotlib.pyplot as plt #to make sure there are no errors when plotting a graph\n",
        "import pyproj\n",
        "\n",
        "import spacy\n",
        "from spacy import displacy\n",
        "\n",
        "import googlemaps\n",
        "\n",
        "import locationtagger\n",
        "nlp = spacy.load(\"en_core_web_sm\")"
      ],
      "id": "936b5f5b",
      "execution_count": null,
      "outputs": []
    },
    {
      "cell_type": "code",
      "metadata": {},
      "source": [
        "text = \"elcorridodegregoriocortez.txt\"\n",
        "with open(text, 'r', encoding='utf-8') as c:\n",
        "    text = c.read()\n",
        "    \n",
        "def clean_text(text):\n",
        "    cleaned= re.sub(r'[\":;,.“”]', \"\", text)\n",
        "    return(cleaned)\n",
        "text = clean_text(text)\n",
        "#print(text)\n",
        "\n",
        "\n",
        "TxGPE=[]\n",
        "nlp = spacy.load(\"tx_trained_ner\")\n",
        "doc =nlp(text) \n",
        "#print(doc)\n",
        "for ent in doc.ents:\n",
        "    #print(ent.text, ent.label_)\n",
        "    if ent.label_ == \"GPE\":\n",
        "        TxGPE.append(ent.text)\n",
        "print(TxGPE)"
      ],
      "id": "38f6bf0a",
      "execution_count": null,
      "outputs": []
    },
    {
      "cell_type": "code",
      "metadata": {},
      "source": [
        "ents = [(e.text, e.start_char, e.end_char, e.label_)for e in doc.ents]\n",
        "print(ents)"
      ],
      "id": "2c142674",
      "execution_count": null,
      "outputs": []
    },
    {
      "cell_type": "code",
      "metadata": {},
      "source": [
        "displacy.render(doc, style ='ent', jupyter=True, page=True)"
      ],
      "id": "6ca491e2",
      "execution_count": null,
      "outputs": []
    },
    {
      "cell_type": "code",
      "metadata": {},
      "source": [
        "df = pd.DataFrame(ents, columns=['NER'])\n",
        "geolocator = ArcGIS(user_agent='CorridosMap')\n",
        "geocode = lambda query: geolocator.geocode(\"%s, Texas\" % query)\n",
        "df['coordinates'] = df['NER'].apply(geocode)\n",
        "#df['geometry'] = df['NER_Places'].apply(geocode)\n",
        "df"
      ],
      "id": "8130e180",
      "execution_count": null,
      "outputs": []
    },
    {
      "cell_type": "code",
      "metadata": {},
      "source": [
        "gdf = gpd.tools.geocode(df.coordinates, provider='ArcGIS')\n",
        "gdf = gpd.GeoDataFrame(gdf, crs=\"EPSG:4326\")\n",
        "gdf[\"lat\"]=gdf['geometry'].y\n",
        "gdf [\"lon\"] = gdf['geometry'].x\n",
        "\n",
        "gdf"
      ],
      "id": "2a0e4834",
      "execution_count": null,
      "outputs": []
    },
    {
      "cell_type": "code",
      "metadata": {},
      "source": [
        "px.set_mapbox_access_token(open(\"mapboxtoken\").read())\n",
        "fig = px.line_mapbox(gdf, text=\"address\",\n",
        "                        lat=gdf.geometry.y,\n",
        "                        lon=gdf.geometry.x,\n",
        "                        labels=\"address\",\n",
        "                        )\n",
        "\n",
        "fig.update_layout(mapbox_style=\"stamen-terrain\", mapbox_zoom=6, mapbox_center_lat = 29,\n",
        "    margin={\"r\":0,\"t\":0,\"l\":0,\"b\":0})\n",
        "\n",
        "\n",
        "\n",
        "fig.show()"
      ],
      "id": "f2ba888b",
      "execution_count": null,
      "outputs": []
    }
  ],
  "metadata": {
    "kernelspec": {
      "name": "python3",
      "language": "python",
      "display_name": "Python 3 (ipykernel)"
    }
  },
  "nbformat": 4,
  "nbformat_minor": 5
}
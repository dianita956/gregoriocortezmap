{
  "cells": [
    {
      "cell_type": "markdown",
      "metadata": {},
      "source": [
        "---\n",
        "code-fold: true\n",
        "---\n",
        "\n",
        "\n",
        "\n",
        "# Mapping El Corrido de Gregorio \n",
        "\n",
        "### packages required {.unnumbered}\n"
      ],
      "id": "637538d1"
    },
    {
      "cell_type": "code",
      "metadata": {},
      "source": [
        "import folium\n",
        "import geopandas as gpd\n",
        "import pandas as pd\n",
        "\n",
        "import re\n",
        "\n",
        "from geopy.geocoders import ArcGIS\n",
        "import plotly.express as px \n",
        "\n",
        "import spacy\n",
        "from spacy import displacy"
      ],
      "id": "aecd05cb",
      "execution_count": null,
      "outputs": []
    },
    {
      "cell_type": "markdown",
      "metadata": {},
      "source": [
        "### Extracting Name Enities (places) from text document {.unnumbered}\n"
      ],
      "id": "3693bd4e"
    },
    {
      "cell_type": "code",
      "metadata": {},
      "source": [
        "text = \"elcorridodegregoriocortez.txt\"\n",
        "with open(text, 'r', encoding='utf-8') as c:\n",
        "    text = c.read()\n",
        "    \n",
        "def clean_text(text):\n",
        "    cleaned= re.sub(r'[\":;,.“”]', \"\", text)\n",
        "    return(cleaned)\n",
        "text = clean_text(text)\n",
        "#print(text)\n",
        "\n",
        "\n",
        "TxGPE=[]\n",
        "nlp = spacy.load(\"tx_trained_ner\")\n",
        "doc =nlp(text) \n",
        "#print(doc)\n",
        "for ent in doc.ents:\n",
        "    #print(ent.text, ent.label_)\n",
        "    if ent.label_ == \"GPE\":\n",
        "        TxGPE.append(ent.text)\n",
        "#print(TxGPE)\n",
        "\n",
        "ents = [(e.text, e.start_char, e.end_char, e.label_)for e in doc.ents]\n",
        "entsname=[(e.text) for e in doc.ents]\n",
        "print(entsname)"
      ],
      "id": "31818c60",
      "execution_count": null,
      "outputs": []
    },
    {
      "cell_type": "markdown",
      "metadata": {},
      "source": [
        "### Visulization: Highlighting Name Entities from text {.unnumbered}\n"
      ],
      "id": "8fbfb690"
    },
    {
      "cell_type": "code",
      "metadata": {},
      "source": [
        "displacy.render(doc, style ='ent', jupyter=True, page=True)"
      ],
      "id": "748a0d5e",
      "execution_count": null,
      "outputs": []
    },
    {
      "cell_type": "markdown",
      "metadata": {},
      "source": [
        "### Creating Dataframe {.unnumbered}\n"
      ],
      "id": "36ae7a5a"
    },
    {
      "cell_type": "code",
      "metadata": {},
      "source": [
        "df = pd.DataFrame({'NER': entsname})\n",
        "geolocator = OpenCage(api_key='358a05a403a643ec8cf37150dfed56c5')\n",
        "geocode = lambda query: geolocator.geocode(\"%s, Texas\" % query)\n",
        "location = geolocator.geocode(\"Belmont Site\", exactly_one=True)\n",
        "df['Coordinates'] = df['NER'].apply(geocode)\n",
        "df"
      ],
      "id": "b779a537",
      "execution_count": null,
      "outputs": []
    },
    {
      "cell_type": "markdown",
      "metadata": {},
      "source": [
        "### Creating GeoDataframe {.unnumbered}\n"
      ],
      "id": "8859b93b"
    },
    {
      "cell_type": "code",
      "metadata": {},
      "source": [
        "gdf = gpd.tools.geocode(df.Coordinates, provider='ArcGIS')\n",
        "gdf = gpd.GeoDataFrame(gdf, crs=\"EPSG:4326\")\n",
        "gdf[\"lat\"]=gdf['geometry'].y\n",
        "gdf [\"lon\"] = gdf['geometry'].x\n",
        "\n",
        "gdf\n",
        "gdf.to_json()"
      ],
      "id": "6cd577c2",
      "execution_count": null,
      "outputs": []
    },
    {
      "cell_type": "markdown",
      "metadata": {},
      "source": [
        "### Creating Mapping Visualization from El Corrido de Gregorio Cortez {.unnumbered}\n"
      ],
      "id": "75c01a5f"
    },
    {
      "cell_type": "code",
      "metadata": {},
      "source": [
        "# Ensure lat/lon columns exist\n",
        "gdf[\"lat\"] = gdf.geometry.y\n",
        "gdf[\"lon\"] = gdf.geometry.x\n",
        "\n",
        "# Create a base map centered around the first coordinate or the mean location\n",
        "m = folium.Map(location=[gdf[\"lat\"].mean(), gdf[\"lon\"].mean()], zoom_start=6, tiles=\"OpenStreetMap\")\n",
        "\n",
        "# Create a list of coordinate tuples (lat, lon)\n",
        "coordinates = list(zip(gdf[\"lat\"], gdf[\"lon\"]))\n",
        "\n",
        "# Add the line to the map\n",
        "folium.PolyLine(\n",
        "    locations=coordinates,\n",
        "    color=\"blue\",\n",
        "    weight=3,\n",
        "    opacity=0.7\n",
        ").add_to(m)\n",
        "\n",
        "# Add markers with hover text (optional)\n",
        "for _, row in gdf.iterrows():\n",
        "    folium.Marker(\n",
        "        location=[row[\"lat\"], row[\"lon\"]],\n",
        "        popup=row[\"address\"],  # Shows address when clicked\n",
        "        tooltip=row[\"address\"]  # Shows address on hover\n",
        "    ).add_to(m)\n",
        "\n",
        "# Display the map (if running in a Jupyter Notebook)\n",
        "m"
      ],
      "id": "7497afda",
      "execution_count": null,
      "outputs": []
    }
  ],
  "metadata": {
    "kernelspec": {
      "name": "python3",
      "language": "python",
      "display_name": "Python 3 (ipykernel)",
      "path": "/Users/dianitalopez/Documents/GitHub/gregoriocortezmap/.venv/share/jupyter/kernels/python3"
    }
  },
  "nbformat": 4,
  "nbformat_minor": 5
}